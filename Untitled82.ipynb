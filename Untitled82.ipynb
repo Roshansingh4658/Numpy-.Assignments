{
 "cells": [
  {
   "cell_type": "code",
   "execution_count": 2,
   "id": "6f458ae7-42ed-4308-a613-81e77b70a72d",
   "metadata": {},
   "outputs": [
    {
     "name": "stdout",
     "output_type": "stream",
     "text": [
      "Shape of the array: (3, 4)\n",
      "Size of the array: 12\n",
      "Dimensions of the array: 2\n"
     ]
    }
   ],
   "source": [
    "import numpy as np\n",
    "\n",
    "# Define the array\n",
    "array = np.array([\n",
    "    [1, 2, 3, 4],\n",
    "    [5, 6, 7, 8],\n",
    "    [9, 10, 11, 12]\n",
    "])\n",
    "\n",
    "# Shape of the array\n",
    "shape = array.shape\n",
    "\n",
    "# Size of the array\n",
    "size = array.size\n",
    "\n",
    "# Number of dimensions of the array\n",
    "dimensions = array.ndim\n",
    "\n",
    "print(\"Shape of the array:\", shape)\n",
    "print(\"Size of the array:\", size)\n",
    "print(\"Dimensions of the array:\", dimensions)\n"
   ]
  },
  {
   "cell_type": "code",
   "execution_count": 3,
   "id": "a1786163-b511-40ef-8409-6fa710c73268",
   "metadata": {},
   "outputs": [
    {
     "name": "stdout",
     "output_type": "stream",
     "text": [
      "Type of NumPy array: <class 'numpy.ndarray'>\n",
      "Type of Python list: <class 'list'>\n",
      "\n",
      "Accessing elements:\n",
      "NumPy array: 1 5\n",
      "Python list: 1 5\n",
      "\n",
      "Memory usage:\n",
      "NumPy array memory usage: 20 bytes\n",
      "Python list memory usage: 104 bytes\n",
      "\n",
      "Summing elements:\n",
      "NumPy array sum: 15 | Time: 0.0 seconds\n",
      "Python list sum: 15 | Time: 0.0 seconds\n"
     ]
    }
   ],
   "source": [
    "import numpy as np\n",
    "\n",
    "# Creating a NumPy array\n",
    "numpy_array = np.array([1, 2, 3, 4, 5])\n",
    "\n",
    "# Creating a Python list\n",
    "python_list = [1, 2, 3, 4, 5]\n",
    "\n",
    "# Printing the type of each object\n",
    "print(\"Type of NumPy array:\", type(numpy_array))\n",
    "print(\"Type of Python list:\", type(python_list))\n",
    "\n",
    "# Accessing elements\n",
    "print(\"\\nAccessing elements:\")\n",
    "print(\"NumPy array:\", numpy_array[0], numpy_array[-1])\n",
    "print(\"Python list:\", python_list[0], python_list[-1])\n",
    "\n",
    "# Memory usage\n",
    "import sys\n",
    "print(\"\\nMemory usage:\")\n",
    "print(\"NumPy array memory usage:\", numpy_array.nbytes, \"bytes\")\n",
    "print(\"Python list memory usage:\", sys.getsizeof(python_list), \"bytes\")\n",
    "\n",
    "# Performance comparison for summing elements\n",
    "import time\n",
    "\n",
    "# NumPy array\n",
    "start_time = time.time()\n",
    "numpy_sum = np.sum(numpy_array)\n",
    "numpy_time = time.time() - start_time\n",
    "\n",
    "# Python list\n",
    "start_time = time.time()\n",
    "python_sum = sum(python_list)\n",
    "python_time = time.time() - start_time\n",
    "\n",
    "print(\"\\nSumming elements:\")\n",
    "print(\"NumPy array sum:\", numpy_sum, \"| Time:\", numpy_time, \"seconds\")\n",
    "print(\"Python list sum:\", python_sum, \"| Time:\", python_time, \"seconds\")\n"
   ]
  },
  {
   "cell_type": "code",
   "execution_count": 4,
   "id": "b543fdfa-934b-4652-a098-ef9089002885",
   "metadata": {},
   "outputs": [
    {
     "name": "stdout",
     "output_type": "stream",
     "text": [
      "First row of the array: [1 2 3 4]\n"
     ]
    }
   ],
   "source": [
    "import numpy as np\n",
    "\n",
    "# Define the array\n",
    "array = np.array([\n",
    "    [1, 2, 3, 4],\n",
    "    [5, 6, 7, 8],\n",
    "    [9, 10, 11, 12]\n",
    "])\n",
    "\n",
    "# Accessing the first row\n",
    "first_row = array[0]\n",
    "\n",
    "print(\"First row of the array:\", first_row)\n"
   ]
  },
  {
   "cell_type": "code",
   "execution_count": 5,
   "id": "3172362a-1917-4ee1-a452-512c56eff3ad",
   "metadata": {},
   "outputs": [
    {
     "name": "stdout",
     "output_type": "stream",
     "text": [
      "Element at the third row and fourth column: 12\n"
     ]
    }
   ],
   "source": [
    "import numpy as np\n",
    "\n",
    "# Define the array\n",
    "array = np.array([\n",
    "    [1, 2, 3, 4],\n",
    "    [5, 6, 7, 8],\n",
    "    [9, 10, 11, 12]\n",
    "])\n",
    "\n",
    "# Accessing the element at the third row and fourth column\n",
    "element = array[2, 3]  # Note: Python indexing starts from 0\n",
    "\n",
    "print(\"Element at the third row and fourth column:\", element)\n"
   ]
  },
  {
   "cell_type": "code",
   "execution_count": 6,
   "id": "f21f967f-a323-4369-a434-bcba5a2789ab",
   "metadata": {},
   "outputs": [
    {
     "name": "stdout",
     "output_type": "stream",
     "text": [
      "All odd-indexed elements:\n",
      "[[ 2  4]\n",
      " [ 6  8]\n",
      " [10 12]]\n"
     ]
    }
   ],
   "source": [
    "import numpy as np\n",
    "\n",
    "# Define the array\n",
    "array = np.array([\n",
    "    [1, 2, 3, 4],\n",
    "    [5, 6, 7, 8],\n",
    "    [9, 10, 11, 12]\n",
    "])\n",
    "\n",
    "# Extracting all odd-indexed elements\n",
    "odd_indexed_elements = array[:, 1::2]  # Slicing with step size 2 starting from index 1\n",
    "\n",
    "print(\"All odd-indexed elements:\")\n",
    "print(odd_indexed_elements)\n"
   ]
  },
  {
   "cell_type": "code",
   "execution_count": 7,
   "id": "3c193f63-7478-4f33-b1ca-cc3753b3f8af",
   "metadata": {},
   "outputs": [
    {
     "name": "stdout",
     "output_type": "stream",
     "text": [
      "Random 3x3 matrix with values between 0 and 1:\n",
      "[[0.42498792 0.32053365 0.39533693]\n",
      " [0.14174697 0.21142237 0.88303421]\n",
      " [0.93348243 0.58764854 0.28373296]]\n"
     ]
    }
   ],
   "source": [
    "import numpy as np\n",
    "\n",
    "# Generate a random 3x3 matrix with values between 0 and 1\n",
    "random_matrix = np.random.rand(3, 3)\n",
    "\n",
    "print(\"Random 3x3 matrix with values between 0 and 1:\")\n",
    "print(random_matrix)\n"
   ]
  },
  {
   "cell_type": "code",
   "execution_count": 8,
   "id": "7ccaedf2-e3c0-4e45-aea7-8b5a63422fd0",
   "metadata": {},
   "outputs": [
    {
     "name": "stdout",
     "output_type": "stream",
     "text": [
      "Random numbers from a uniform distribution:\n",
      "[[0.38769347 0.77069254 0.72499368]\n",
      " [0.11256388 0.18214093 0.34540158]\n",
      " [0.89693201 0.892644   0.93762968]]\n",
      "\n",
      "Random numbers from a standard normal distribution:\n",
      "[[ 1.12083249  0.56094927 -0.34023405]\n",
      " [-1.54104238  0.14015068 -1.61698247]\n",
      " [ 1.70857017 -1.29489116 -0.135283  ]]\n"
     ]
    }
   ],
   "source": [
    "import numpy as np\n",
    "\n",
    "# Generate random numbers from a uniform distribution between 0 and 1\n",
    "random_uniform = np.random.rand(3, 3)\n",
    "print(\"Random numbers from a uniform distribution:\")\n",
    "print(random_uniform)\n",
    "\n",
    "# Generate random numbers from a standard normal distribution\n",
    "random_normal = np.random.randn(3, 3)\n",
    "print(\"\\nRandom numbers from a standard normal distribution:\")\n",
    "print(random_normal)\n"
   ]
  },
  {
   "cell_type": "code",
   "execution_count": 9,
   "id": "b61c6d50-5cda-4437-b109-c82a50d3a36f",
   "metadata": {},
   "outputs": [
    {
     "name": "stdout",
     "output_type": "stream",
     "text": [
      "Original array:\n",
      "[[ 1  2  3  4]\n",
      " [ 5  6  7  8]\n",
      " [ 9 10 11 12]]\n",
      "\n",
      "Array with increased dimension:\n",
      "[[[ 1  2  3  4]\n",
      "  [ 5  6  7  8]\n",
      "  [ 9 10 11 12]]]\n"
     ]
    }
   ],
   "source": [
    "import numpy as np\n",
    "\n",
    "# Define the array\n",
    "array = np.array([\n",
    "    [1, 2, 3, 4],\n",
    "    [5, 6, 7, 8],\n",
    "    [9, 10, 11, 12]\n",
    "])\n",
    "\n",
    "# Increase the dimension of the array\n",
    "new_array = np.expand_dims(array, axis=0)  # Add a new axis at position 0 (along rows)\n",
    "\n",
    "print(\"Original array:\")\n",
    "print(array)\n",
    "print(\"\\nArray with increased dimension:\")\n",
    "print(new_array)\n"
   ]
  },
  {
   "cell_type": "code",
   "execution_count": 10,
   "id": "c2dcac21-b9e1-46f3-a3dd-d49b27421a87",
   "metadata": {},
   "outputs": [
    {
     "name": "stdout",
     "output_type": "stream",
     "text": [
      "Transposed array:\n",
      "[[ 1  5  9]\n",
      " [ 2  6 10]\n",
      " [ 3  7 11]\n",
      " [ 4  8 12]]\n"
     ]
    }
   ],
   "source": [
    "import numpy as np\n",
    "\n",
    "# Define the array\n",
    "array = np.array([\n",
    "    [1, 2, 3, 4],\n",
    "    [5, 6, 7, 8],\n",
    "    [9, 10, 11, 12]\n",
    "])\n",
    "\n",
    "# Transpose the array\n",
    "transposed_array = np.transpose(array)\n",
    "\n",
    "print(\"Transposed array:\")\n",
    "print(transposed_array)\n"
   ]
  },
  {
   "cell_type": "code",
   "execution_count": 11,
   "id": "ae06dcbe-3902-4fcf-a071-bc09c657ab54",
   "metadata": {},
   "outputs": [
    {
     "name": "stdout",
     "output_type": "stream",
     "text": [
      "Matrix A:\n",
      "[[ 1  2  3  4]\n",
      " [ 5  6  7  8]\n",
      " [ 9 10 11 12]]\n",
      "\n",
      "Matrix B:\n",
      "[[ 1  2  3  4]\n",
      " [ 5  6  7  8]\n",
      " [ 9 10 11 12]]\n"
     ]
    }
   ],
   "source": [
    "import numpy as np\n",
    "\n",
    "# Define Matrix A\n",
    "matrix_A = np.array([\n",
    "    [1, 2, 3, 4],\n",
    "    [5, 6, 7, 8],\n",
    "    [9, 10, 11, 12]\n",
    "])\n",
    "\n",
    "# Define Matrix B\n",
    "matrix_B = np.array([\n",
    "    [1, 2, 3, 4],\n",
    "    [5, 6, 7, 8],\n",
    "    [9, 10, 11, 12]\n",
    "])\n",
    "\n",
    "# Print Matrix A and B\n",
    "print(\"Matrix A:\")\n",
    "print(matrix_A)\n",
    "print(\"\\nMatrix B:\")\n",
    "print(matrix_B)\n"
   ]
  },
  {
   "cell_type": "code",
   "execution_count": 6,
   "id": "b4e734a5-860b-4a48-b8bc-18fdd365f7b1",
   "metadata": {},
   "outputs": [
    {
     "ename": "ValueError",
     "evalue": "shapes (3,4) and (3,4) not aligned: 4 (dim 1) != 3 (dim 0)",
     "output_type": "error",
     "traceback": [
      "\u001b[1;31m---------------------------------------------------------------------------\u001b[0m",
      "\u001b[1;31mValueError\u001b[0m                                Traceback (most recent call last)",
      "Cell \u001b[1;32mIn[6], line 21\u001b[0m\n\u001b[0;32m     18\u001b[0m index_wise_multiplication \u001b[38;5;241m=\u001b[39m matrix_A \u001b[38;5;241m*\u001b[39m matrix_B\n\u001b[0;32m     20\u001b[0m \u001b[38;5;66;03m# Matrix multiplication\u001b[39;00m\n\u001b[1;32m---> 21\u001b[0m matrix_multiplication \u001b[38;5;241m=\u001b[39m np\u001b[38;5;241m.\u001b[39mdot(matrix_A, matrix_B)\n\u001b[0;32m     23\u001b[0m \u001b[38;5;66;03m# Addition of both matrices\u001b[39;00m\n\u001b[0;32m     24\u001b[0m matrix_addition \u001b[38;5;241m=\u001b[39m matrix_A \u001b[38;5;241m+\u001b[39m matrix_B\n",
      "\u001b[1;31mValueError\u001b[0m: shapes (3,4) and (3,4) not aligned: 4 (dim 1) != 3 (dim 0)"
     ]
    }
   ],
   "source": [
    "import numpy as np\n",
    "\n",
    "# Define Matrix A\n",
    "matrix_A = np.array([\n",
    "    [1, 2, 3, 4],\n",
    "    [5, 6, 7, 8],\n",
    "    [9, 10, 11, 12]\n",
    "])\n",
    "\n",
    "# Define Matrix B\n",
    "matrix_B = np.array([\n",
    "    [1, 2, 3, 4],\n",
    "    [5, 6, 7, 8],\n",
    "    [9, 10, 11, 12]\n",
    "])\n",
    "\n",
    "# Index-wise multiplication\n",
    "index_wise_multiplication = matrix_A * matrix_B\n",
    "\n",
    "# Matrix multiplication\n",
    "matrix_multiplication = np.dot(matrix_A, matrix_B)\n",
    "\n",
    "# Addition of both matrices\n",
    "matrix_addition = matrix_A + matrix_B\n",
    "\n",
    "# Subtract matrix B from matrix A\n",
    "matrix_subtraction = matrix_A - matrix_B\n",
    "\n",
    "# Divide matrix B by A\n",
    "matrix_division = matrix_B / matrix_A\n",
    "\n",
    "# Print the results\n",
    "print(\"Index-wise multiplication:\")\n",
    "print(index_wise_multiplication)\n",
    "\n",
    "print(\"\\nMatrix multiplication:\")\n",
    "print(matrix_multiplication)\n",
    "\n",
    "print(\"\\nAddition of both matrices:\")\n",
    "print(matrix_addition)\n",
    "\n",
    "print(\"\\nSubtract matrix B from matrix A:\")\n",
    "print(matrix_subtraction)\n",
    "\n",
    "print(\"\\nDivide matrix B by A:\")\n",
    "print(matrix_division)\n"
   ]
  },
  {
   "cell_type": "code",
   "execution_count": 7,
   "id": "7b19022a-1721-4558-8ee9-f248acba5d21",
   "metadata": {},
   "outputs": [
    {
     "name": "stdout",
     "output_type": "stream",
     "text": [
      "Original array:\n",
      "[    1   256 65536]\n",
      "\n",
      "Array after byte swapping:\n",
      "[16777216    65536      256]\n"
     ]
    }
   ],
   "source": [
    "import numpy as np\n",
    "\n",
    "# Define an array\n",
    "arr = np.array([1, 256, 65536], dtype=np.int32)\n",
    "\n",
    "# Print the original array\n",
    "print(\"Original array:\")\n",
    "print(arr)\n",
    "\n",
    "# Swap the byte order\n",
    "arr.byteswap(True)\n",
    "\n",
    "# Print the array after byte swapping\n",
    "print(\"\\nArray after byte swapping:\")\n",
    "print(arr)\n"
   ]
  },
  {
   "cell_type": "code",
   "execution_count": 8,
   "id": "86710f93-dbb2-494f-9c00-c521a0f7adc2",
   "metadata": {},
   "outputs": [
    {
     "name": "stdout",
     "output_type": "stream",
     "text": [
      "Original matrix A:\n",
      "[[1 2]\n",
      " [3 4]]\n",
      "\n",
      "Inverse of matrix A:\n",
      "[[-2.   1. ]\n",
      " [ 1.5 -0.5]]\n"
     ]
    }
   ],
   "source": [
    "import numpy as np\n",
    "\n",
    "# Define a square matrix\n",
    "A = np.array([[1, 2], [3, 4]])\n",
    "\n",
    "# Compute the inverse of the matrix\n",
    "A_inv = np.linalg.inv(A)\n",
    "\n",
    "# Print the original matrix and its inverse\n",
    "print(\"Original matrix A:\")\n",
    "print(A)\n",
    "\n",
    "print(\"\\nInverse of matrix A:\")\n",
    "print(A_inv)\n"
   ]
  },
  {
   "cell_type": "code",
   "execution_count": null,
   "id": "52c48aeb-814e-4be4-a374-3b43a76bd850",
   "metadata": {},
   "outputs": [],
   "source": []
  }
 ],
 "metadata": {
  "kernelspec": {
   "display_name": "Python 3 (ipykernel)",
   "language": "python",
   "name": "python3"
  },
  "language_info": {
   "codemirror_mode": {
    "name": "ipython",
    "version": 3
   },
   "file_extension": ".py",
   "mimetype": "text/x-python",
   "name": "python",
   "nbconvert_exporter": "python",
   "pygments_lexer": "ipython3",
   "version": "3.11.7"
  }
 },
 "nbformat": 4,
 "nbformat_minor": 5
}
